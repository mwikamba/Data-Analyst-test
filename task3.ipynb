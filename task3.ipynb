{
 "cells": [
  {
   "cell_type": "code",
   "execution_count": 1,
   "metadata": {},
   "outputs": [],
   "source": [
    "# import libraries\n",
    "\n",
    "import pandas as pd\n",
    "import os"
   ]
  },
  {
   "attachments": {},
   "cell_type": "markdown",
   "metadata": {},
   "source": [
    "<h3> Task 3 - Data management:"
   ]
  },
  {
   "attachments": {},
   "cell_type": "markdown",
   "metadata": {},
   "source": [
    "1. Locating the .csv files in the Task 3 & 4 folder."
   ]
  },
  {
   "cell_type": "code",
   "execution_count": 2,
   "metadata": {},
   "outputs": [
    {
     "name": "stdout",
     "output_type": "stream",
     "text": [
      "customer_database.csv\n",
      "data_dictionary.csv\n",
      "merged_database.csv\n",
      "orders_database.csv\n",
      "test_set.csv\n",
      "training_set.csv\n"
     ]
    }
   ],
   "source": [
    "# Defining the folder path to locate the CSV files\n",
    "folder_path = 'Task 3 _ 4'\n",
    "\n",
    "# Get all files in the folder\n",
    "files = os.listdir(folder_path)\n",
    "\n",
    "# Filter .csv files\n",
    "csv_files = [file for file in files if file.endswith('.csv')]\n",
    "\n",
    "# Print the list of .csv files\n",
    "for csv_file in csv_files:\n",
    "    print(csv_file)"
   ]
  },
  {
   "attachments": {},
   "cell_type": "markdown",
   "metadata": {},
   "source": [
    "There are only three files in the Task 3 & 4 folder.\n",
    "- customer_database.csv\n",
    "- data_dictionary.csv\n",
    "- orders_database.csv"
   ]
  },
  {
   "attachments": {},
   "cell_type": "markdown",
   "metadata": {},
   "source": [
    "2. Merging the two databases customer_database.csv and orders_database.csv into one table."
   ]
  },
  {
   "cell_type": "code",
   "execution_count": 3,
   "metadata": {},
   "outputs": [],
   "source": [
    "# Read the CSV files into A Pandas DataFrame\n",
    "customer_database=pd.read_csv('Task 3 _ 4\\customer_database.csv')\n",
    "orders_database=pd.read_csv('Task 3 _ 4\\orders_database.csv')"
   ]
  },
  {
   "cell_type": "code",
   "execution_count": 4,
   "metadata": {},
   "outputs": [
    {
     "name": "stdout",
     "output_type": "stream",
     "text": [
      "<class 'pandas.core.frame.DataFrame'>\n",
      "RangeIndex: 9 entries, 0 to 8\n",
      "Data columns (total 9 columns):\n",
      " #   Column                Non-Null Count  Dtype \n",
      "---  ------                --------------  ----- \n",
      " 0   Name                  9 non-null      object\n",
      " 1   Age                   9 non-null      int64 \n",
      " 2   Height                9 non-null      int64 \n",
      " 3   Sex                   9 non-null      object\n",
      " 4   Location              9 non-null      object\n",
      " 5   Income in May         9 non-null      int64 \n",
      " 6   Income in June        9 non-null      int64 \n",
      " 7   Income in July        9 non-null      int64 \n",
      " 8   Water bill (monthly)  9 non-null      int64 \n",
      "dtypes: int64(6), object(3)\n",
      "memory usage: 776.0+ bytes\n"
     ]
    }
   ],
   "source": [
    "# summary for customer data \n",
    "customer_database.info()"
   ]
  },
  {
   "attachments": {},
   "cell_type": "markdown",
   "metadata": {},
   "source": [
    "From the above summary we can tell;\n",
    "- The total number of columns in customer database and their names.\n",
    "- Total number of rows and if there are nulls\n",
    "- Data type for each column"
   ]
  },
  {
   "cell_type": "code",
   "execution_count": 5,
   "metadata": {},
   "outputs": [
    {
     "data": {
      "text/html": [
       "<div>\n",
       "<style scoped>\n",
       "    .dataframe tbody tr th:only-of-type {\n",
       "        vertical-align: middle;\n",
       "    }\n",
       "\n",
       "    .dataframe tbody tr th {\n",
       "        vertical-align: top;\n",
       "    }\n",
       "\n",
       "    .dataframe thead th {\n",
       "        text-align: right;\n",
       "    }\n",
       "</style>\n",
       "<table border=\"1\" class=\"dataframe\">\n",
       "  <thead>\n",
       "    <tr style=\"text-align: right;\">\n",
       "      <th></th>\n",
       "      <th>Name</th>\n",
       "      <th>Age</th>\n",
       "      <th>Height</th>\n",
       "      <th>Sex</th>\n",
       "      <th>Location</th>\n",
       "      <th>Income in May</th>\n",
       "      <th>Income in June</th>\n",
       "      <th>Income in July</th>\n",
       "      <th>Water bill (monthly)</th>\n",
       "    </tr>\n",
       "  </thead>\n",
       "  <tbody>\n",
       "    <tr>\n",
       "      <th>2</th>\n",
       "      <td>Peter</td>\n",
       "      <td>42</td>\n",
       "      <td>167</td>\n",
       "      <td>M</td>\n",
       "      <td>A</td>\n",
       "      <td>1300</td>\n",
       "      <td>1320</td>\n",
       "      <td>1350</td>\n",
       "      <td>140</td>\n",
       "    </tr>\n",
       "    <tr>\n",
       "      <th>4</th>\n",
       "      <td>Stella</td>\n",
       "      <td>33</td>\n",
       "      <td>160</td>\n",
       "      <td>F</td>\n",
       "      <td>A</td>\n",
       "      <td>955</td>\n",
       "      <td>1050</td>\n",
       "      <td>1000</td>\n",
       "      <td>91</td>\n",
       "    </tr>\n",
       "    <tr>\n",
       "      <th>8</th>\n",
       "      <td>Lynn</td>\n",
       "      <td>46</td>\n",
       "      <td>190</td>\n",
       "      <td>F</td>\n",
       "      <td>B</td>\n",
       "      <td>1200</td>\n",
       "      <td>1250</td>\n",
       "      <td>1200</td>\n",
       "      <td>112</td>\n",
       "    </tr>\n",
       "  </tbody>\n",
       "</table>\n",
       "</div>"
      ],
      "text/plain": [
       "     Name  Age  Height Sex Location  Income in May  Income in June  \\\n",
       "2   Peter   42     167   M        A           1300            1320   \n",
       "4  Stella   33     160   F        A            955            1050   \n",
       "8    Lynn   46     190   F        B           1200            1250   \n",
       "\n",
       "   Income in July  Water bill (monthly)  \n",
       "2            1350                   140  \n",
       "4            1000                    91  \n",
       "8            1200                   112  "
      ]
     },
     "execution_count": 5,
     "metadata": {},
     "output_type": "execute_result"
    }
   ],
   "source": [
    "# print sample customer_database\n",
    "customer_database.sample(3)"
   ]
  },
  {
   "cell_type": "code",
   "execution_count": 6,
   "metadata": {},
   "outputs": [
    {
     "name": "stdout",
     "output_type": "stream",
     "text": [
      "<class 'pandas.core.frame.DataFrame'>\n",
      "RangeIndex: 9 entries, 0 to 8\n",
      "Data columns (total 4 columns):\n",
      " #   Column                 Non-Null Count  Dtype \n",
      "---  ------                 --------------  ----- \n",
      " 0   Name                   9 non-null      object\n",
      " 1   Number of orders May   9 non-null      int64 \n",
      " 2   Number of orders June  9 non-null      int64 \n",
      " 3   Number of orders July  9 non-null      int64 \n",
      "dtypes: int64(3), object(1)\n",
      "memory usage: 416.0+ bytes\n"
     ]
    }
   ],
   "source": [
    "# summary for orders data\n",
    "orders_database.info()"
   ]
  },
  {
   "attachments": {},
   "cell_type": "markdown",
   "metadata": {},
   "source": [
    "From the above summary we can tell;\n",
    "- The total number of columns in orders database and their names.\n",
    "- Total number of rows and if there are nulls.\n",
    "- Data type for each column."
   ]
  },
  {
   "cell_type": "code",
   "execution_count": 7,
   "metadata": {},
   "outputs": [
    {
     "data": {
      "text/html": [
       "<div>\n",
       "<style scoped>\n",
       "    .dataframe tbody tr th:only-of-type {\n",
       "        vertical-align: middle;\n",
       "    }\n",
       "\n",
       "    .dataframe tbody tr th {\n",
       "        vertical-align: top;\n",
       "    }\n",
       "\n",
       "    .dataframe thead th {\n",
       "        text-align: right;\n",
       "    }\n",
       "</style>\n",
       "<table border=\"1\" class=\"dataframe\">\n",
       "  <thead>\n",
       "    <tr style=\"text-align: right;\">\n",
       "      <th></th>\n",
       "      <th>Name</th>\n",
       "      <th>Number of orders May</th>\n",
       "      <th>Number of orders June</th>\n",
       "      <th>Number of orders July</th>\n",
       "    </tr>\n",
       "  </thead>\n",
       "  <tbody>\n",
       "    <tr>\n",
       "      <th>0</th>\n",
       "      <td>Juan</td>\n",
       "      <td>203</td>\n",
       "      <td>223</td>\n",
       "      <td>210</td>\n",
       "    </tr>\n",
       "    <tr>\n",
       "      <th>4</th>\n",
       "      <td>Stella</td>\n",
       "      <td>188</td>\n",
       "      <td>209</td>\n",
       "      <td>199</td>\n",
       "    </tr>\n",
       "    <tr>\n",
       "      <th>1</th>\n",
       "      <td>Julia</td>\n",
       "      <td>251</td>\n",
       "      <td>240</td>\n",
       "      <td>239</td>\n",
       "    </tr>\n",
       "  </tbody>\n",
       "</table>\n",
       "</div>"
      ],
      "text/plain": [
       "     Name  Number of orders May  Number of orders June  Number of orders July\n",
       "0    Juan                   203                    223                    210\n",
       "4  Stella                   188                    209                    199\n",
       "1   Julia                   251                    240                    239"
      ]
     },
     "execution_count": 7,
     "metadata": {},
     "output_type": "execute_result"
    }
   ],
   "source": [
    "# print sample orders_database\n",
    "orders_database.sample(3)"
   ]
  },
  {
   "attachments": {},
   "cell_type": "markdown",
   "metadata": {},
   "source": [
    "*Based on the above summary, below are the steps to approach this task.*"
   ]
  },
  {
   "attachments": {},
   "cell_type": "markdown",
   "metadata": {},
   "source": [
    "Steps.\n",
    "\n",
    "1. Create income and Month column in customer database (extract from 'Income in May', 'Income in June', 'Income in July').\n",
    "2. Extract Month and Number of orders in orders_database.\n",
    "3. Merge the two DataFrames.\n",
    "4. Replace the human name column headings with their respective variable names.\n",
    "5. Combining income and num_orders into single column.\n",
    "6. Explore the merged data.\n",
    "7. Save merged data as a CSV file."
   ]
  },
  {
   "cell_type": "code",
   "execution_count": 9,
   "metadata": {},
   "outputs": [],
   "source": [
    "def adding_columns(df, id_vars):\n",
    "\n",
    "    '''A function to help in creating the new columns, Month, Income, Number of orders in\n",
    "    the customer database and the orders database.\n",
    "    '''\n",
    "    #Reshape (Unpivot) the DataFrame using melt function\n",
    "    df = df.melt(id_vars=id_vars, var_name='Month', value_name='Income')\n",
    "    \n",
    "    # Extract the month by splitting the column values on whitespace and retrieving the last word\n",
    "    df['Month'] = df['Month'].str.split().str[-1]\n",
    "    \n",
    "    return df"
   ]
  },
  {
   "attachments": {},
   "cell_type": "markdown",
   "metadata": {},
   "source": [
    "- Apply the function on customer database to extract Month and Income values"
   ]
  },
  {
   "cell_type": "code",
   "execution_count": 10,
   "metadata": {},
   "outputs": [
    {
     "data": {
      "text/html": [
       "<div>\n",
       "<style scoped>\n",
       "    .dataframe tbody tr th:only-of-type {\n",
       "        vertical-align: middle;\n",
       "    }\n",
       "\n",
       "    .dataframe tbody tr th {\n",
       "        vertical-align: top;\n",
       "    }\n",
       "\n",
       "    .dataframe thead th {\n",
       "        text-align: right;\n",
       "    }\n",
       "</style>\n",
       "<table border=\"1\" class=\"dataframe\">\n",
       "  <thead>\n",
       "    <tr style=\"text-align: right;\">\n",
       "      <th></th>\n",
       "      <th>Name</th>\n",
       "      <th>Age</th>\n",
       "      <th>Height</th>\n",
       "      <th>Sex</th>\n",
       "      <th>Location</th>\n",
       "      <th>Water bill (monthly)</th>\n",
       "      <th>Month</th>\n",
       "      <th>Income</th>\n",
       "    </tr>\n",
       "  </thead>\n",
       "  <tbody>\n",
       "    <tr>\n",
       "      <th>0</th>\n",
       "      <td>Juan</td>\n",
       "      <td>51</td>\n",
       "      <td>170</td>\n",
       "      <td>M</td>\n",
       "      <td>A</td>\n",
       "      <td>110</td>\n",
       "      <td>May</td>\n",
       "      <td>1000</td>\n",
       "    </tr>\n",
       "    <tr>\n",
       "      <th>1</th>\n",
       "      <td>Julia</td>\n",
       "      <td>20</td>\n",
       "      <td>187</td>\n",
       "      <td>F</td>\n",
       "      <td>B</td>\n",
       "      <td>119</td>\n",
       "      <td>May</td>\n",
       "      <td>1250</td>\n",
       "    </tr>\n",
       "    <tr>\n",
       "      <th>2</th>\n",
       "      <td>Peter</td>\n",
       "      <td>42</td>\n",
       "      <td>167</td>\n",
       "      <td>M</td>\n",
       "      <td>A</td>\n",
       "      <td>140</td>\n",
       "      <td>May</td>\n",
       "      <td>1300</td>\n",
       "    </tr>\n",
       "  </tbody>\n",
       "</table>\n",
       "</div>"
      ],
      "text/plain": [
       "    Name  Age  Height Sex Location  Water bill (monthly) Month  Income\n",
       "0   Juan   51     170   M        A                   110   May    1000\n",
       "1  Julia   20     187   F        B                   119   May    1250\n",
       "2  Peter   42     167   M        A                   140   May    1300"
      ]
     },
     "execution_count": 10,
     "metadata": {},
     "output_type": "execute_result"
    }
   ],
   "source": [
    "# Apply the function on customer database to extract Month and Income values\n",
    "customer_db = adding_columns(customer_database, ['Name', 'Age', 'Height','Sex','Location','Water bill (monthly)'])\n",
    "\n",
    "# Display the updated dataframe\n",
    "customer_db.head(3)"
   ]
  },
  {
   "attachments": {},
   "cell_type": "markdown",
   "metadata": {},
   "source": [
    "- Apply the function on orders_database to create Month and number of orders"
   ]
  },
  {
   "cell_type": "code",
   "execution_count": 11,
   "metadata": {},
   "outputs": [
    {
     "data": {
      "text/html": [
       "<div>\n",
       "<style scoped>\n",
       "    .dataframe tbody tr th:only-of-type {\n",
       "        vertical-align: middle;\n",
       "    }\n",
       "\n",
       "    .dataframe tbody tr th {\n",
       "        vertical-align: top;\n",
       "    }\n",
       "\n",
       "    .dataframe thead th {\n",
       "        text-align: right;\n",
       "    }\n",
       "</style>\n",
       "<table border=\"1\" class=\"dataframe\">\n",
       "  <thead>\n",
       "    <tr style=\"text-align: right;\">\n",
       "      <th></th>\n",
       "      <th>Name</th>\n",
       "      <th>Month</th>\n",
       "      <th>Number of orders</th>\n",
       "    </tr>\n",
       "  </thead>\n",
       "  <tbody>\n",
       "    <tr>\n",
       "      <th>0</th>\n",
       "      <td>Juan</td>\n",
       "      <td>May</td>\n",
       "      <td>203</td>\n",
       "    </tr>\n",
       "    <tr>\n",
       "      <th>1</th>\n",
       "      <td>Julia</td>\n",
       "      <td>May</td>\n",
       "      <td>251</td>\n",
       "    </tr>\n",
       "    <tr>\n",
       "      <th>2</th>\n",
       "      <td>Peter</td>\n",
       "      <td>May</td>\n",
       "      <td>255</td>\n",
       "    </tr>\n",
       "  </tbody>\n",
       "</table>\n",
       "</div>"
      ],
      "text/plain": [
       "    Name Month  Number of orders\n",
       "0   Juan   May               203\n",
       "1  Julia   May               251\n",
       "2  Peter   May               255"
      ]
     },
     "execution_count": 11,
     "metadata": {},
     "output_type": "execute_result"
    }
   ],
   "source": [
    "# Apply the function on orders_database to extract Month and number of orders\n",
    "order_db = adding_columns(orders_database, 'Name')\n",
    "\n",
    "# rename column income to Number of orders\n",
    "order_db.rename(columns={\"Income\":\"Number of orders\"}, inplace=True)\n",
    "\n",
    "# Display the updated dataframe\n",
    "order_db.head(3)"
   ]
  },
  {
   "attachments": {},
   "cell_type": "markdown",
   "metadata": {},
   "source": [
    "- Merging the databases above (customer_db and orders_db)"
   ]
  },
  {
   "cell_type": "code",
   "execution_count": 12,
   "metadata": {},
   "outputs": [
    {
     "data": {
      "text/html": [
       "<div>\n",
       "<style scoped>\n",
       "    .dataframe tbody tr th:only-of-type {\n",
       "        vertical-align: middle;\n",
       "    }\n",
       "\n",
       "    .dataframe tbody tr th {\n",
       "        vertical-align: top;\n",
       "    }\n",
       "\n",
       "    .dataframe thead th {\n",
       "        text-align: right;\n",
       "    }\n",
       "</style>\n",
       "<table border=\"1\" class=\"dataframe\">\n",
       "  <thead>\n",
       "    <tr style=\"text-align: right;\">\n",
       "      <th></th>\n",
       "      <th>Name</th>\n",
       "      <th>Age</th>\n",
       "      <th>Height</th>\n",
       "      <th>Location</th>\n",
       "      <th>Water bill (monthly)</th>\n",
       "      <th>Month</th>\n",
       "      <th>Income</th>\n",
       "      <th>Number of orders</th>\n",
       "    </tr>\n",
       "  </thead>\n",
       "  <tbody>\n",
       "    <tr>\n",
       "      <th>0</th>\n",
       "      <td>Juan</td>\n",
       "      <td>51</td>\n",
       "      <td>170</td>\n",
       "      <td>A</td>\n",
       "      <td>110</td>\n",
       "      <td>May</td>\n",
       "      <td>1000</td>\n",
       "      <td>203</td>\n",
       "    </tr>\n",
       "    <tr>\n",
       "      <th>1</th>\n",
       "      <td>Julia</td>\n",
       "      <td>20</td>\n",
       "      <td>187</td>\n",
       "      <td>B</td>\n",
       "      <td>119</td>\n",
       "      <td>May</td>\n",
       "      <td>1250</td>\n",
       "      <td>251</td>\n",
       "    </tr>\n",
       "    <tr>\n",
       "      <th>2</th>\n",
       "      <td>Peter</td>\n",
       "      <td>42</td>\n",
       "      <td>167</td>\n",
       "      <td>A</td>\n",
       "      <td>140</td>\n",
       "      <td>May</td>\n",
       "      <td>1300</td>\n",
       "      <td>255</td>\n",
       "    </tr>\n",
       "  </tbody>\n",
       "</table>\n",
       "</div>"
      ],
      "text/plain": [
       "    Name  Age  Height Location  Water bill (monthly) Month  Income  \\\n",
       "0   Juan   51     170        A                   110   May    1000   \n",
       "1  Julia   20     187        B                   119   May    1250   \n",
       "2  Peter   42     167        A                   140   May    1300   \n",
       "\n",
       "   Number of orders  \n",
       "0               203  \n",
       "1               251  \n",
       "2               255  "
      ]
     },
     "execution_count": 12,
     "metadata": {},
     "output_type": "execute_result"
    }
   ],
   "source": [
    "# Outer merge customer db and orders db to return customers from both databases.\n",
    "merged_database= pd.merge(customer_db[['Name','Age','Height','Location','Water bill (monthly)','Month','Income']],\n",
    "                          order_db,on=['Name','Month',], how='outer')\n",
    "merged_database.head(3)"
   ]
  },
  {
   "attachments": {},
   "cell_type": "markdown",
   "metadata": {},
   "source": [
    "- Replacing the human name heading with respective variable name"
   ]
  },
  {
   "cell_type": "code",
   "execution_count": 13,
   "metadata": {},
   "outputs": [
    {
     "data": {
      "text/html": [
       "<div>\n",
       "<style scoped>\n",
       "    .dataframe tbody tr th:only-of-type {\n",
       "        vertical-align: middle;\n",
       "    }\n",
       "\n",
       "    .dataframe tbody tr th {\n",
       "        vertical-align: top;\n",
       "    }\n",
       "\n",
       "    .dataframe thead th {\n",
       "        text-align: right;\n",
       "    }\n",
       "</style>\n",
       "<table border=\"1\" class=\"dataframe\">\n",
       "  <thead>\n",
       "    <tr style=\"text-align: right;\">\n",
       "      <th></th>\n",
       "      <th>name</th>\n",
       "      <th>age</th>\n",
       "      <th>height</th>\n",
       "      <th>location</th>\n",
       "      <th>water_bill</th>\n",
       "      <th>month</th>\n",
       "      <th>income</th>\n",
       "      <th>num_orders</th>\n",
       "    </tr>\n",
       "  </thead>\n",
       "  <tbody>\n",
       "    <tr>\n",
       "      <th>0</th>\n",
       "      <td>Juan</td>\n",
       "      <td>51</td>\n",
       "      <td>170</td>\n",
       "      <td>A</td>\n",
       "      <td>110</td>\n",
       "      <td>May</td>\n",
       "      <td>1000</td>\n",
       "      <td>203</td>\n",
       "    </tr>\n",
       "    <tr>\n",
       "      <th>1</th>\n",
       "      <td>Julia</td>\n",
       "      <td>20</td>\n",
       "      <td>187</td>\n",
       "      <td>B</td>\n",
       "      <td>119</td>\n",
       "      <td>May</td>\n",
       "      <td>1250</td>\n",
       "      <td>251</td>\n",
       "    </tr>\n",
       "    <tr>\n",
       "      <th>2</th>\n",
       "      <td>Peter</td>\n",
       "      <td>42</td>\n",
       "      <td>167</td>\n",
       "      <td>A</td>\n",
       "      <td>140</td>\n",
       "      <td>May</td>\n",
       "      <td>1300</td>\n",
       "      <td>255</td>\n",
       "    </tr>\n",
       "    <tr>\n",
       "      <th>3</th>\n",
       "      <td>John</td>\n",
       "      <td>32</td>\n",
       "      <td>190</td>\n",
       "      <td>C</td>\n",
       "      <td>91</td>\n",
       "      <td>May</td>\n",
       "      <td>800</td>\n",
       "      <td>163</td>\n",
       "    </tr>\n",
       "    <tr>\n",
       "      <th>4</th>\n",
       "      <td>Stella</td>\n",
       "      <td>33</td>\n",
       "      <td>160</td>\n",
       "      <td>A</td>\n",
       "      <td>91</td>\n",
       "      <td>May</td>\n",
       "      <td>955</td>\n",
       "      <td>188</td>\n",
       "    </tr>\n",
       "  </tbody>\n",
       "</table>\n",
       "</div>"
      ],
      "text/plain": [
       "     name  age  height location  water_bill month  income  num_orders\n",
       "0    Juan   51     170        A         110   May    1000         203\n",
       "1   Julia   20     187        B         119   May    1250         251\n",
       "2   Peter   42     167        A         140   May    1300         255\n",
       "3    John   32     190        C          91   May     800         163\n",
       "4  Stella   33     160        A          91   May     955         188"
      ]
     },
     "execution_count": 13,
     "metadata": {},
     "output_type": "execute_result"
    }
   ],
   "source": [
    "# Replace column names with lowercase letters to match respective variable names\n",
    "merged_database.columns = merged_database.columns.str.lower()\n",
    "\n",
    "#renaming columns water bill (monthly) and number of orders\n",
    "merged_database.rename(columns={'water bill (monthly)': 'water_bill', 'number of orders': 'num_orders'}, inplace=True)\n",
    "\n",
    "# Print the updated DataFrame\n",
    "merged_database.head()"
   ]
  },
  {
   "attachments": {},
   "cell_type": "markdown",
   "metadata": {},
   "source": [
    "- Combining income and number of orders to single column separated by | where the first value is income and last is the  number of orders."
   ]
  },
  {
   "cell_type": "code",
   "execution_count": 14,
   "metadata": {},
   "outputs": [
    {
     "data": {
      "text/html": [
       "<div>\n",
       "<style scoped>\n",
       "    .dataframe tbody tr th:only-of-type {\n",
       "        vertical-align: middle;\n",
       "    }\n",
       "\n",
       "    .dataframe tbody tr th {\n",
       "        vertical-align: top;\n",
       "    }\n",
       "\n",
       "    .dataframe thead th {\n",
       "        text-align: right;\n",
       "    }\n",
       "</style>\n",
       "<table border=\"1\" class=\"dataframe\">\n",
       "  <thead>\n",
       "    <tr style=\"text-align: right;\">\n",
       "      <th></th>\n",
       "      <th>name</th>\n",
       "      <th>age</th>\n",
       "      <th>height</th>\n",
       "      <th>location</th>\n",
       "      <th>water_bill</th>\n",
       "      <th>month</th>\n",
       "      <th>income|num_orders</th>\n",
       "    </tr>\n",
       "  </thead>\n",
       "  <tbody>\n",
       "    <tr>\n",
       "      <th>0</th>\n",
       "      <td>Juan</td>\n",
       "      <td>51</td>\n",
       "      <td>170</td>\n",
       "      <td>A</td>\n",
       "      <td>110</td>\n",
       "      <td>May</td>\n",
       "      <td>1000|203</td>\n",
       "    </tr>\n",
       "    <tr>\n",
       "      <th>1</th>\n",
       "      <td>Julia</td>\n",
       "      <td>20</td>\n",
       "      <td>187</td>\n",
       "      <td>B</td>\n",
       "      <td>119</td>\n",
       "      <td>May</td>\n",
       "      <td>1250|251</td>\n",
       "    </tr>\n",
       "    <tr>\n",
       "      <th>2</th>\n",
       "      <td>Peter</td>\n",
       "      <td>42</td>\n",
       "      <td>167</td>\n",
       "      <td>A</td>\n",
       "      <td>140</td>\n",
       "      <td>May</td>\n",
       "      <td>1300|255</td>\n",
       "    </tr>\n",
       "  </tbody>\n",
       "</table>\n",
       "</div>"
      ],
      "text/plain": [
       "    name  age  height location  water_bill month income|num_orders\n",
       "0   Juan   51     170        A         110   May          1000|203\n",
       "1  Julia   20     187        B         119   May          1250|251\n",
       "2  Peter   42     167        A         140   May          1300|255"
      ]
     },
     "execution_count": 14,
     "metadata": {},
     "output_type": "execute_result"
    }
   ],
   "source": [
    "# combining income and number of orders into single column\n",
    "merged_database['income|num_orders'] = merged_database.apply(lambda row: f\"{row['income']}|{row['num_orders']}\", axis=1)\n",
    "\n",
    "# drop income and num_orders column\n",
    "merged_database.drop(columns=['income','num_orders'], inplace=True)\n",
    "\n",
    "merged_database.head(3)"
   ]
  },
  {
   "attachments": {},
   "cell_type": "markdown",
   "metadata": {},
   "source": [
    "- Exploring merged data "
   ]
  },
  {
   "cell_type": "code",
   "execution_count": 15,
   "metadata": {},
   "outputs": [
    {
     "name": "stdout",
     "output_type": "stream",
     "text": [
      "<class 'pandas.core.frame.DataFrame'>\n",
      "RangeIndex: 27 entries, 0 to 26\n",
      "Data columns (total 7 columns):\n",
      " #   Column             Non-Null Count  Dtype \n",
      "---  ------             --------------  ----- \n",
      " 0   name               27 non-null     object\n",
      " 1   age                27 non-null     int64 \n",
      " 2   height             27 non-null     int64 \n",
      " 3   location           27 non-null     object\n",
      " 4   water_bill         27 non-null     int64 \n",
      " 5   month              27 non-null     object\n",
      " 6   income|num_orders  27 non-null     object\n",
      "dtypes: int64(3), object(4)\n",
      "memory usage: 1.6+ KB\n"
     ]
    }
   ],
   "source": [
    "# summary of the merged data\n",
    "merged_database.info()"
   ]
  },
  {
   "cell_type": "code",
   "execution_count": 16,
   "metadata": {},
   "outputs": [],
   "source": [
    "# saving data to Task3_4 folder\n",
    "merged_database.to_csv('Task 3 _ 4/merged_database.csv', index=False)"
   ]
  }
 ],
 "metadata": {
  "kernelspec": {
   "display_name": "myenv",
   "language": "python",
   "name": "python3"
  },
  "language_info": {
   "codemirror_mode": {
    "name": "ipython",
    "version": 3
   },
   "file_extension": ".py",
   "mimetype": "text/x-python",
   "name": "python",
   "nbconvert_exporter": "python",
   "pygments_lexer": "ipython3",
   "version": "3.10.7"
  },
  "orig_nbformat": 4
 },
 "nbformat": 4,
 "nbformat_minor": 2
}
